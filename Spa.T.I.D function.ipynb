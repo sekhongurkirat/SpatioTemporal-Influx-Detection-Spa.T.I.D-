{
 "cells": [
  {
   "cell_type": "code",
   "execution_count": 1,
   "metadata": {},
   "outputs": [],
   "source": [
    "import numpy as np\n",
    "import pandas as pd\n",
    "import matplotlib\n",
    "import matplotlib.pyplot as plt\n",
    "from sklearn import decomposition\n",
    "from scipy import stats\n",
    "from sklearn import cluster\n",
    "from vincenty import vincenty\n",
    "from h3 import h3\n",
    "from folium import Map, Marker, GeoJson\n",
    "from folium.plugins import MarkerCluster\n",
    "import folium\n",
    "import branca.colormap as cm\n",
    "from geojson.feature import *\n",
    "import json\n",
    "from IPython.display import Image, display\n",
    "import calendar\n",
    "from tqdm import tqdm\n",
    "from datetime import datetime"
   ]
  },
  {
   "cell_type": "code",
   "execution_count": 2,
   "metadata": {},
   "outputs": [],
   "source": [
    "TRAIN_PATH = 'C:/Users/umang/Downloads/NYPD_Complaint_Data_Current__Year_To_Date_.csv'\n",
    "df = pd.read_csv(TRAIN_PATH)"
   ]
  },
  {
   "cell_type": "code",
   "execution_count": 14,
   "metadata": {},
   "outputs": [],
   "source": [
    "def spatid(df,time_bin,spatial_resolution):\n",
    "    df.dropna()\n",
    "    \n",
    "    #generating hexid for locations from latitude and Longitude data columns\n",
    "    df[\"hex_id\"] = df.apply(lambda row: h3.geo_to_h3(row[\"Latitude\"], row[\"Longitude\"], spatial_resolution), axis = 1)\n",
    "    \n",
    "    # converting time into number of minutes in the day\n",
    "    df['time'] = df['CMPLNT_FR_TM'].apply(lambda x:datetime.strptime(x,'%H:%M:%S'))\n",
    "    dfhour=df['time'].apply(lambda x:x.hour)*60\n",
    "    dfmin=df['time'].apply(lambda x:x.minute)\n",
    "    df['time']=dfhour+dfmin\n",
    "    df['time']=df['time'].astype(int)\n",
    "    \n",
    "    #creating time bins in a day based on 'time_bin' parameter\n",
    "    df['bin']=df['time']/time_bin+1\n",
    "    df['bin']=df['bin'].astype(int)\n",
    "    \n",
    "    #grouping data based on day, time and location\n",
    "    srs1=df.groupby(['CMPLNT_FR_DT', 'hex_id','bin']).size().sort_values(ascending=False) \n",
    "    \n",
    "    df_output=srs1.to_frame()\n",
    "    df_output.reset_index(inplace=True)  \n",
    "    df_output.rename({0: 'Incident_count'}, axis=1, inplace=True)\n",
    "    \n",
    "    #creating threshold for alarm where incident report increases beyond 95th percentile (2 std deviations) of the reports\n",
    "    # in the given location within the time bin\n",
    "    srs2=df_output.groupby('hex_id')['Incident_count'].quantile(.95).sort_values(ascending=False)\n",
    "    df_threshold=srs2.to_frame()\n",
    "    df_threshold=df_threshold.rename(columns={'Incident_count':'Threshold'})\n",
    "    df_threshold.reset_index(inplace=True)\n",
    "    \n",
    "    #joining the threshold df with output df\n",
    "    df_joined=pd.merge(df_output,df_threshold,how='left',on=['hex_id','hex_id'])\n",
    "    \n",
    "    #generating alarm based on threshold\n",
    "    df_alarm=df_joined[df_joined['Incident_count']>=df_joined['Threshold']]\n",
    "    \n",
    "    return df_alarm"
   ]
  },
  {
   "cell_type": "code",
   "execution_count": 15,
   "metadata": {},
   "outputs": [],
   "source": [
    "df_test=spatid(df,60,7)"
   ]
  },
  {
   "cell_type": "code",
   "execution_count": 16,
   "metadata": {},
   "outputs": [
    {
     "data": {
      "text/plain": [
       "103917"
      ]
     },
     "execution_count": 16,
     "metadata": {},
     "output_type": "execute_result"
    }
   ],
   "source": [
    "df_test['Incident_count'].sum()"
   ]
  },
  {
   "cell_type": "code",
   "execution_count": 19,
   "metadata": {},
   "outputs": [
    {
     "data": {
      "text/html": [
       "<div>\n",
       "<style scoped>\n",
       "    .dataframe tbody tr th:only-of-type {\n",
       "        vertical-align: middle;\n",
       "    }\n",
       "\n",
       "    .dataframe tbody tr th {\n",
       "        vertical-align: top;\n",
       "    }\n",
       "\n",
       "    .dataframe thead th {\n",
       "        text-align: right;\n",
       "    }\n",
       "</style>\n",
       "<table border=\"1\" class=\"dataframe\">\n",
       "  <thead>\n",
       "    <tr style=\"text-align: right;\">\n",
       "      <th></th>\n",
       "      <th>CMPLNT_FR_DT</th>\n",
       "      <th>hex_id</th>\n",
       "      <th>bin</th>\n",
       "      <th>Incident_count</th>\n",
       "      <th>Threshold</th>\n",
       "    </tr>\n",
       "  </thead>\n",
       "  <tbody>\n",
       "    <tr>\n",
       "      <th>0</th>\n",
       "      <td>01/01/2020</td>\n",
       "      <td>872a10088ffffff</td>\n",
       "      <td>1</td>\n",
       "      <td>40</td>\n",
       "      <td>3.0</td>\n",
       "    </tr>\n",
       "    <tr>\n",
       "      <th>1</th>\n",
       "      <td>06/01/2020</td>\n",
       "      <td>872a1072cffffff</td>\n",
       "      <td>2</td>\n",
       "      <td>35</td>\n",
       "      <td>4.0</td>\n",
       "    </tr>\n",
       "    <tr>\n",
       "      <th>2</th>\n",
       "      <td>06/01/2020</td>\n",
       "      <td>872a100d6ffffff</td>\n",
       "      <td>22</td>\n",
       "      <td>33</td>\n",
       "      <td>4.0</td>\n",
       "    </tr>\n",
       "    <tr>\n",
       "      <th>3</th>\n",
       "      <td>06/01/2020</td>\n",
       "      <td>872a100d2ffffff</td>\n",
       "      <td>22</td>\n",
       "      <td>32</td>\n",
       "      <td>5.0</td>\n",
       "    </tr>\n",
       "    <tr>\n",
       "      <th>4</th>\n",
       "      <td>06/01/2020</td>\n",
       "      <td>872a1072cffffff</td>\n",
       "      <td>1</td>\n",
       "      <td>32</td>\n",
       "      <td>4.0</td>\n",
       "    </tr>\n",
       "    <tr>\n",
       "      <th>5</th>\n",
       "      <td>05/30/2020</td>\n",
       "      <td>872a1072cffffff</td>\n",
       "      <td>23</td>\n",
       "      <td>32</td>\n",
       "      <td>4.0</td>\n",
       "    </tr>\n",
       "    <tr>\n",
       "      <th>6</th>\n",
       "      <td>06/01/2020</td>\n",
       "      <td>872a100d2ffffff</td>\n",
       "      <td>23</td>\n",
       "      <td>31</td>\n",
       "      <td>5.0</td>\n",
       "    </tr>\n",
       "    <tr>\n",
       "      <th>7</th>\n",
       "      <td>05/29/2020</td>\n",
       "      <td>872a100daffffff</td>\n",
       "      <td>22</td>\n",
       "      <td>31</td>\n",
       "      <td>3.0</td>\n",
       "    </tr>\n",
       "    <tr>\n",
       "      <th>8</th>\n",
       "      <td>06/01/2020</td>\n",
       "      <td>872a100d6ffffff</td>\n",
       "      <td>21</td>\n",
       "      <td>30</td>\n",
       "      <td>4.0</td>\n",
       "    </tr>\n",
       "    <tr>\n",
       "      <th>9</th>\n",
       "      <td>05/29/2020</td>\n",
       "      <td>872a100daffffff</td>\n",
       "      <td>21</td>\n",
       "      <td>30</td>\n",
       "      <td>3.0</td>\n",
       "    </tr>\n",
       "  </tbody>\n",
       "</table>\n",
       "</div>"
      ],
      "text/plain": [
       "  CMPLNT_FR_DT           hex_id  bin  Incident_count  Threshold\n",
       "0   01/01/2020  872a10088ffffff    1              40        3.0\n",
       "1   06/01/2020  872a1072cffffff    2              35        4.0\n",
       "2   06/01/2020  872a100d6ffffff   22              33        4.0\n",
       "3   06/01/2020  872a100d2ffffff   22              32        5.0\n",
       "4   06/01/2020  872a1072cffffff    1              32        4.0\n",
       "5   05/30/2020  872a1072cffffff   23              32        4.0\n",
       "6   06/01/2020  872a100d2ffffff   23              31        5.0\n",
       "7   05/29/2020  872a100daffffff   22              31        3.0\n",
       "8   06/01/2020  872a100d6ffffff   21              30        4.0\n",
       "9   05/29/2020  872a100daffffff   21              30        3.0"
      ]
     },
     "execution_count": 19,
     "metadata": {},
     "output_type": "execute_result"
    }
   ],
   "source": [
    "df_test.head(10)"
   ]
  },
  {
   "cell_type": "code",
   "execution_count": null,
   "metadata": {},
   "outputs": [],
   "source": []
  }
 ],
 "metadata": {
  "kernelspec": {
   "display_name": "Python 3",
   "language": "python",
   "name": "python3"
  },
  "language_info": {
   "codemirror_mode": {
    "name": "ipython",
    "version": 3
   },
   "file_extension": ".py",
   "mimetype": "text/x-python",
   "name": "python",
   "nbconvert_exporter": "python",
   "pygments_lexer": "ipython3",
   "version": "3.8.5"
  }
 },
 "nbformat": 4,
 "nbformat_minor": 4
}
